{
 "cells": [
  {
   "cell_type": "markdown",
   "metadata": {},
   "source": [
    "# EMPLOYEE ATTRITION CONTROL"
   ]
  },
  {
   "cell_type": "markdown",
   "metadata": {},
   "source": [
    "### CASE STUDY\n",
    "The project is to help a company which is trying to control attrition. There are two sets of data: \"Existing employees\" and \"Employees who have left\". Following attributes are available for every employee;\n",
    "-Satisfaction Level\n",
    "-Last evaluation\n",
    "-Number of projects\n",
    "-Average monthly hours\n",
    "-Time spent at the company\n",
    "-Whether they have had a work accident\n",
    "-Whether they have had a promotion in the last 5 years\n",
    "-Departments (column sales)\n",
    "-Salary\n",
    "\n",
    "Use your analytics skills to answer the following questions :\n",
    "1. What type of employees are leaving?\n",
    "2. Which employees are prone to leave next.\n",
    "3. Recommendations"
   ]
  }
 ],
 "metadata": {
  "kernelspec": {
   "display_name": "Python 3 (ipykernel)",
   "language": "python",
   "name": "python3"
  },
  "language_info": {
   "codemirror_mode": {
    "name": "ipython",
    "version": 3
   },
   "file_extension": ".py",
   "mimetype": "text/x-python",
   "name": "python",
   "nbconvert_exporter": "python",
   "pygments_lexer": "ipython3",
   "version": "3.10.9"
  }
 },
 "nbformat": 4,
 "nbformat_minor": 2
}
